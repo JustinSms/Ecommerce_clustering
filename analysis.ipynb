{
 "metadata": {
  "language_info": {
   "codemirror_mode": {
    "name": "ipython",
    "version": 3
   },
   "file_extension": ".py",
   "mimetype": "text/x-python",
   "name": "python",
   "nbconvert_exporter": "python",
   "pygments_lexer": "ipython3",
   "version": "3.8.3-final"
  },
  "orig_nbformat": 2,
  "kernelspec": {
   "name": "python3",
   "display_name": "Python 3",
   "language": "python"
  }
 },
 "nbformat": 4,
 "nbformat_minor": 2,
 "cells": [
  {
   "cell_type": "code",
   "execution_count": 2,
   "metadata": {},
   "outputs": [
    {
     "output_type": "stream",
     "name": "stdout",
     "text": [
      "                           Email  \\\n0      mstephenson@fernandez.com   \n1              hduke@hotmail.com   \n2               pallen@yahoo.com   \n3        riverarebecca@gmail.com   \n4  mstephens@davidson-herman.com   \n\n                                             Address            Avatar  \\\n0     835 Frank Tunnel\\r\\nWrightmouth, MI 82180-9605            Violet   \n1   4547 Archer Common\\r\\nDiazchester, CA 06566-8576         DarkGreen   \n2  24645 Valerie Unions Suite 582\\r\\nCobbborough,...            Bisque   \n3  1414 David Throughway\\r\\nPort Jason, OH 22070-...       SaddleBrown   \n4  14023 Rodriguez Passage\\r\\nPort Jacobville, PR...  MediumAquaMarine   \n\n   Avg. Session Length  Time on App  Time on Website  Length of Membership  \\\n0            34.497268    12.655651        39.577668              4.082621   \n1            31.926272    11.109461        37.268959              2.664034   \n2            33.000915    11.330278        37.110597              4.104543   \n3            34.305557    13.717514        36.721283              3.120179   \n4            33.330673    12.795189        37.536653              4.446308   \n\n   Yearly Amount Spent  \n0           587.951054  \n1           392.204933  \n2           487.547505  \n3           581.852344  \n4           599.406092  \n"
     ]
    }
   ],
   "source": [
    "import pandas as pd\n",
    "import numpy as np\n",
    "import normalization_file\n",
    "\n",
    "\n",
    "data = pd.read_csv(\"Ecommerce Customers.csv\")\n",
    "print(data.head(5))\n",
    "\n",
    "data_num = data[[\"Avg. Session Length\",\"Time on App\",\"Time on Website\",\"Length of Membership\",\"Yearly Amount Spent\"]]\n",
    "data_cat = data[[\"Email\",\"Address\",\"Avatar\"]]\n",
    "\n",
    "email_tail_list = []"
   ]
  },
  {
   "source": [
    "Data cleaning"
   ],
   "cell_type": "markdown",
   "metadata": {}
  },
  {
   "source": [
    "Missing or wrong data"
   ],
   "cell_type": "markdown",
   "metadata": {}
  },
  {
   "cell_type": "code",
   "execution_count": 3,
   "metadata": {},
   "outputs": [
    {
     "output_type": "stream",
     "name": "stdout",
     "text": [
      "0               Violet\n1            DarkGreen\n2               Bisque\n3          SaddleBrown\n4     MediumAquaMarine\n5          FloralWhite\n6        DarkSlateBlue\n7                 Aqua\n8               Salmon\n9                Brown\n10              Tomato\n11              Tomato\n12           RoyalBlue\n13              Bisque\n14            DarkBlue\nName: Avatar, dtype: object\n0     587.951054\n1     392.204933\n2     487.547505\n3     581.852344\n4     599.406092\n5     637.102448\n6     521.572175\n7     549.904146\n8     570.200409\n9     427.199385\n10    492.606013\n11    522.337405\n12    408.640351\n13    573.415867\n14    470.452733\nName: Yearly Amount Spent, dtype: float64\n"
     ]
    }
   ],
   "source": [
    "avatar = data_cat[\"Avatar\"]\n",
    "print(avatar[:15])\n",
    "\n",
    "spent = data_num[\"Yearly Amount Spent\"]\n",
    "print(spent[:15])\n",
    "\n"
   ]
  },
  {
   "source": [
    "Numerical variable analysis"
   ],
   "cell_type": "markdown",
   "metadata": {}
  },
  {
   "cell_type": "code",
   "execution_count": 4,
   "metadata": {},
   "outputs": [
    {
     "output_type": "stream",
     "name": "stdout",
     "text": [
      "<class 'pandas.core.frame.DataFrame'>\nRangeIndex: 500 entries, 0 to 499\nData columns (total 5 columns):\n #   Column                Non-Null Count  Dtype  \n---  ------                --------------  -----  \n 0   Avg. Session Length   500 non-null    float64\n 1   Time on App           500 non-null    float64\n 2   Time on Website       500 non-null    float64\n 3   Length of Membership  500 non-null    float64\n 4   Yearly Amount Spent   500 non-null    float64\ndtypes: float64(5)\nmemory usage: 19.7 KB\n"
     ]
    }
   ],
   "source": [
    "data_num.info()"
   ]
  },
  {
   "cell_type": "code",
   "execution_count": 5,
   "metadata": {},
   "outputs": [
    {
     "output_type": "execute_result",
     "data": {
      "text/plain": [
       "       Avg. Session Length  Time on App  Time on Website  \\\n",
       "count           500.000000   500.000000       500.000000   \n",
       "mean             33.053194    12.052488        37.060445   \n",
       "std               0.992563     0.994216         1.010489   \n",
       "min              29.532429     8.508152        33.913847   \n",
       "25%              32.341822    11.388153        36.349257   \n",
       "50%              33.082008    11.983231        37.069367   \n",
       "75%              33.711985    12.753850        37.716432   \n",
       "max              36.139662    15.126994        40.005182   \n",
       "\n",
       "       Length of Membership  Yearly Amount Spent  \n",
       "count            500.000000           500.000000  \n",
       "mean               3.533462           499.314038  \n",
       "std                0.999278            79.314782  \n",
       "min                0.269901           256.670582  \n",
       "25%                2.930450           445.038277  \n",
       "50%                3.533975           498.887875  \n",
       "75%                4.126502           549.313828  \n",
       "max                6.922689           765.518462  "
      ],
      "text/html": "<div>\n<style scoped>\n    .dataframe tbody tr th:only-of-type {\n        vertical-align: middle;\n    }\n\n    .dataframe tbody tr th {\n        vertical-align: top;\n    }\n\n    .dataframe thead th {\n        text-align: right;\n    }\n</style>\n<table border=\"1\" class=\"dataframe\">\n  <thead>\n    <tr style=\"text-align: right;\">\n      <th></th>\n      <th>Avg. Session Length</th>\n      <th>Time on App</th>\n      <th>Time on Website</th>\n      <th>Length of Membership</th>\n      <th>Yearly Amount Spent</th>\n    </tr>\n  </thead>\n  <tbody>\n    <tr>\n      <th>count</th>\n      <td>500.000000</td>\n      <td>500.000000</td>\n      <td>500.000000</td>\n      <td>500.000000</td>\n      <td>500.000000</td>\n    </tr>\n    <tr>\n      <th>mean</th>\n      <td>33.053194</td>\n      <td>12.052488</td>\n      <td>37.060445</td>\n      <td>3.533462</td>\n      <td>499.314038</td>\n    </tr>\n    <tr>\n      <th>std</th>\n      <td>0.992563</td>\n      <td>0.994216</td>\n      <td>1.010489</td>\n      <td>0.999278</td>\n      <td>79.314782</td>\n    </tr>\n    <tr>\n      <th>min</th>\n      <td>29.532429</td>\n      <td>8.508152</td>\n      <td>33.913847</td>\n      <td>0.269901</td>\n      <td>256.670582</td>\n    </tr>\n    <tr>\n      <th>25%</th>\n      <td>32.341822</td>\n      <td>11.388153</td>\n      <td>36.349257</td>\n      <td>2.930450</td>\n      <td>445.038277</td>\n    </tr>\n    <tr>\n      <th>50%</th>\n      <td>33.082008</td>\n      <td>11.983231</td>\n      <td>37.069367</td>\n      <td>3.533975</td>\n      <td>498.887875</td>\n    </tr>\n    <tr>\n      <th>75%</th>\n      <td>33.711985</td>\n      <td>12.753850</td>\n      <td>37.716432</td>\n      <td>4.126502</td>\n      <td>549.313828</td>\n    </tr>\n    <tr>\n      <th>max</th>\n      <td>36.139662</td>\n      <td>15.126994</td>\n      <td>40.005182</td>\n      <td>6.922689</td>\n      <td>765.518462</td>\n    </tr>\n  </tbody>\n</table>\n</div>"
     },
     "metadata": {},
     "execution_count": 5
    }
   ],
   "source": [
    "data_num.describe()"
   ]
  },
  {
   "cell_type": "code",
   "execution_count": 6,
   "metadata": {},
   "outputs": [
    {
     "output_type": "execute_result",
     "data": {
      "text/plain": [
       "                      Avg. Session Length  Time on App  Time on Website  \\\n",
       "Avg. Session Length              1.000000    -0.027826        -0.034987   \n",
       "Time on App                     -0.027826     1.000000         0.082388   \n",
       "Time on Website                 -0.034987     0.082388         1.000000   \n",
       "Length of Membership             0.060247     0.029143        -0.047582   \n",
       "Yearly Amount Spent              0.355088     0.499328        -0.002641   \n",
       "\n",
       "                      Length of Membership  Yearly Amount Spent  \n",
       "Avg. Session Length               0.060247             0.355088  \n",
       "Time on App                       0.029143             0.499328  \n",
       "Time on Website                  -0.047582            -0.002641  \n",
       "Length of Membership              1.000000             0.809084  \n",
       "Yearly Amount Spent               0.809084             1.000000  "
      ],
      "text/html": "<div>\n<style scoped>\n    .dataframe tbody tr th:only-of-type {\n        vertical-align: middle;\n    }\n\n    .dataframe tbody tr th {\n        vertical-align: top;\n    }\n\n    .dataframe thead th {\n        text-align: right;\n    }\n</style>\n<table border=\"1\" class=\"dataframe\">\n  <thead>\n    <tr style=\"text-align: right;\">\n      <th></th>\n      <th>Avg. Session Length</th>\n      <th>Time on App</th>\n      <th>Time on Website</th>\n      <th>Length of Membership</th>\n      <th>Yearly Amount Spent</th>\n    </tr>\n  </thead>\n  <tbody>\n    <tr>\n      <th>Avg. Session Length</th>\n      <td>1.000000</td>\n      <td>-0.027826</td>\n      <td>-0.034987</td>\n      <td>0.060247</td>\n      <td>0.355088</td>\n    </tr>\n    <tr>\n      <th>Time on App</th>\n      <td>-0.027826</td>\n      <td>1.000000</td>\n      <td>0.082388</td>\n      <td>0.029143</td>\n      <td>0.499328</td>\n    </tr>\n    <tr>\n      <th>Time on Website</th>\n      <td>-0.034987</td>\n      <td>0.082388</td>\n      <td>1.000000</td>\n      <td>-0.047582</td>\n      <td>-0.002641</td>\n    </tr>\n    <tr>\n      <th>Length of Membership</th>\n      <td>0.060247</td>\n      <td>0.029143</td>\n      <td>-0.047582</td>\n      <td>1.000000</td>\n      <td>0.809084</td>\n    </tr>\n    <tr>\n      <th>Yearly Amount Spent</th>\n      <td>0.355088</td>\n      <td>0.499328</td>\n      <td>-0.002641</td>\n      <td>0.809084</td>\n      <td>1.000000</td>\n    </tr>\n  </tbody>\n</table>\n</div>"
     },
     "metadata": {},
     "execution_count": 6
    }
   ],
   "source": [
    "data_num.corr(method = \"pearson\")"
   ]
  },
  {
   "source": [
    "Email Analysis"
   ],
   "cell_type": "markdown",
   "metadata": {}
  },
  {
   "cell_type": "code",
   "execution_count": 7,
   "metadata": {},
   "outputs": [],
   "source": [
    "email_series = data[\"Email\"]"
   ]
  },
  {
   "cell_type": "code",
   "execution_count": 8,
   "metadata": {},
   "outputs": [
    {
     "output_type": "execute_result",
     "data": {
      "text/plain": [
       "0          fernandez.com\n",
       "1            hotmail.com\n",
       "2              yahoo.com\n",
       "3              gmail.com\n",
       "4    davidson-herman.com\n",
       "dtype: object"
      ]
     },
     "metadata": {},
     "execution_count": 8
    }
   ],
   "source": [
    "for i in email_series:\n",
    "    head, sep, tail = i.partition(\"@\")\n",
    "    email_tail_list.append(tail)\n",
    "\n",
    "email_tail_series = pd.Series(email_tail_list)\n",
    "email_tail_series.head(5)"
   ]
  },
  {
   "cell_type": "code",
   "execution_count": 9,
   "metadata": {},
   "outputs": [
    {
     "output_type": "execute_result",
     "data": {
      "text/plain": [
       "count           500\n",
       "unique          244\n",
       "top       gmail.com\n",
       "freq             87\n",
       "dtype: object"
      ]
     },
     "metadata": {},
     "execution_count": 9
    }
   ],
   "source": [
    "email_tail_series.describe()"
   ]
  },
  {
   "cell_type": "code",
   "execution_count": 13,
   "metadata": {},
   "outputs": [
    {
     "output_type": "execute_result",
     "data": {
      "text/plain": [
       "gmail.com              87\n",
       "hotmail.com            87\n",
       "yahoo.com              76\n",
       "moore.com               2\n",
       "davis.com               2\n",
       "jones.com               2\n",
       "jackson.com             2\n",
       "johnson.com             2\n",
       "lee.com                 2\n",
       "edwards.com             2\n",
       "barber.com              2\n",
       "williams.com            2\n",
       "hamilton-jensen.org     1\n",
       "watkins.org             1\n",
       "hansen.com              1\n",
       "lopez.com               1\n",
       "lopez-greene.com        1\n",
       "schroeder.com           1\n",
       "davidson.com            1\n",
       "sawyer-sellers.com      1\n",
       "dtype: int64"
      ]
     },
     "metadata": {},
     "execution_count": 13
    }
   ],
   "source": [
    "email_tail_series.value_counts().head(20)"
   ]
  },
  {
   "cell_type": "code",
   "execution_count": 15,
   "metadata": {},
   "outputs": [
    {
     "output_type": "execute_result",
     "data": {
      "text/plain": [
       "0    4\n",
       "1    2\n",
       "2    3\n",
       "3    1\n",
       "4    4\n",
       "dtype: int64"
      ]
     },
     "metadata": {},
     "execution_count": 15
    }
   ],
   "source": [
    "tail_cat_list = []\n",
    "\n",
    "for i in email_tail_list:\n",
    "    if i == \"gmail.com\":\n",
    "        tail_cat_list.append(1)\n",
    "    elif i == \"hotmail.com\":\n",
    "        tail_cat_list.append(2)\n",
    "    elif i == \"yahoo.com\":\n",
    "        tail_cat_list.append(3)\n",
    "    else:\n",
    "        tail_cat_list.append(4)\n",
    "\n",
    "email_new = pd.Series(tail_cat_list)\n",
    "\n",
    "email_new.head(5)"
   ]
  },
  {
   "cell_type": "code",
   "execution_count": null,
   "metadata": {},
   "outputs": [],
   "source": []
  }
 ]
}