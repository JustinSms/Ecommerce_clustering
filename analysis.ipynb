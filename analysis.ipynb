{
 "metadata": {
  "language_info": {
   "codemirror_mode": {
    "name": "ipython",
    "version": 3
   },
   "file_extension": ".py",
   "mimetype": "text/x-python",
   "name": "python",
   "nbconvert_exporter": "python",
   "pygments_lexer": "ipython3",
   "version": "3.8.3-final"
  },
  "orig_nbformat": 2,
  "kernelspec": {
   "name": "python3",
   "display_name": "Python 3"
  }
 },
 "nbformat": 4,
 "nbformat_minor": 2,
 "cells": [
  {
   "cell_type": "code",
   "execution_count": 26,
   "metadata": {},
   "outputs": [],
   "source": [
    "import pandas as pd\n",
    "import numpy as np\n",
    "import normalization_file\n",
    "\n",
    "\n",
    "data = pd.read_csv(\"Ecommerce Customers.csv\")\n",
    "#print(data.head(5))\n",
    "\n",
    "data_num = data[[\"Avg. Session Length\",\"Time on App\",\"Time on Website\",\"Length of Membership\",\"Yearly Amount Spent\"]]\n",
    "data_cat = data[[\"Email\",\"Address\",\"Avatar\"]]\n",
    "\n",
    "email_tail_list = []"
   ]
  },
  {
   "source": [
    "Data cleaning"
   ],
   "cell_type": "markdown",
   "metadata": {}
  },
  {
   "source": [
    "Missing or wrong data"
   ],
   "cell_type": "markdown",
   "metadata": {}
  },
  {
   "cell_type": "code",
   "execution_count": 31,
   "metadata": {},
   "outputs": [
    {
     "output_type": "execute_result",
     "data": {
      "text/plain": [
       "0      False\n",
       "1      False\n",
       "2      False\n",
       "3      False\n",
       "4      False\n",
       "       ...  \n",
       "495    False\n",
       "496    False\n",
       "497    False\n",
       "498    False\n",
       "499    False\n",
       "Name: Avatar, Length: 500, dtype: bool"
      ]
     },
     "metadata": {},
     "execution_count": 31
    }
   ],
   "source": [
    "avatar = data_cat[\"Avatar\"]\n",
    "\n",
    "avatar.describe()\n",
    "avatar.str.isnumeric()"
   ]
  },
  {
   "source": [
    "Numerical variable analysis"
   ],
   "cell_type": "markdown",
   "metadata": {}
  },
  {
   "cell_type": "code",
   "execution_count": null,
   "metadata": {},
   "outputs": [],
   "source": [
    "data_num.info()"
   ]
  },
  {
   "cell_type": "code",
   "execution_count": null,
   "metadata": {},
   "outputs": [],
   "source": [
    "data_num.describe()"
   ]
  },
  {
   "cell_type": "code",
   "execution_count": null,
   "metadata": {},
   "outputs": [],
   "source": [
    "data_num.corr(method = \"pearson\")"
   ]
  },
  {
   "source": [
    "Email Analysis"
   ],
   "cell_type": "markdown",
   "metadata": {}
  },
  {
   "cell_type": "code",
   "execution_count": null,
   "metadata": {},
   "outputs": [],
   "source": [
    "email_series = data[\"Email\"]"
   ]
  },
  {
   "cell_type": "code",
   "execution_count": null,
   "metadata": {},
   "outputs": [],
   "source": [
    "for i in email_series:\n",
    "    head, sep, tail = i.partition(\"@\")\n",
    "    email_tail_list.append(tail)\n",
    "\n",
    "email_tail_series = pd.Series(email_tail_list)\n",
    "email_tail_series.head(5)"
   ]
  },
  {
   "cell_type": "code",
   "execution_count": 18,
   "metadata": {},
   "outputs": [
    {
     "output_type": "execute_result",
     "data": {
      "text/plain": [
       "count             500\n",
       "unique            244\n",
       "top       hotmail.com\n",
       "freq               87\n",
       "dtype: object"
      ]
     },
     "metadata": {},
     "execution_count": 18
    }
   ],
   "source": [
    "email_tail_series.describe()"
   ]
  },
  {
   "cell_type": "code",
   "execution_count": null,
   "metadata": {},
   "outputs": [],
   "source": []
  }
 ]
}