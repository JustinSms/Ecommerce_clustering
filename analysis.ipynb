{
 "metadata": {
  "language_info": {
   "codemirror_mode": {
    "name": "ipython",
    "version": 3
   },
   "file_extension": ".py",
   "mimetype": "text/x-python",
   "name": "python",
   "nbconvert_exporter": "python",
   "pygments_lexer": "ipython3",
   "version": "3.8.3-final"
  },
  "orig_nbformat": 2,
  "kernelspec": {
   "name": "python3",
   "display_name": "Python 3"
  }
 },
 "nbformat": 4,
 "nbformat_minor": 2,
 "cells": [
  {
   "cell_type": "code",
   "execution_count": 1,
   "metadata": {},
   "outputs": [
    {
     "output_type": "stream",
     "name": "stdout",
     "text": [
      "                           Email  \\\n0      mstephenson@fernandez.com   \n1              hduke@hotmail.com   \n2               pallen@yahoo.com   \n3        riverarebecca@gmail.com   \n4  mstephens@davidson-herman.com   \n\n                                             Address            Avatar  \\\n0     835 Frank Tunnel\\r\\nWrightmouth, MI 82180-9605            Violet   \n1   4547 Archer Common\\r\\nDiazchester, CA 06566-8576         DarkGreen   \n2  24645 Valerie Unions Suite 582\\r\\nCobbborough,...            Bisque   \n3  1414 David Throughway\\r\\nPort Jason, OH 22070-...       SaddleBrown   \n4  14023 Rodriguez Passage\\r\\nPort Jacobville, PR...  MediumAquaMarine   \n\n   Avg. Session Length  Time on App  Time on Website  Length of Membership  \\\n0            34.497268    12.655651        39.577668              4.082621   \n1            31.926272    11.109461        37.268959              2.664034   \n2            33.000915    11.330278        37.110597              4.104543   \n3            34.305557    13.717514        36.721283              3.120179   \n4            33.330673    12.795189        37.536653              4.446308   \n\n   Yearly Amount Spent  \n0           587.951054  \n1           392.204933  \n2           487.547505  \n3           581.852344  \n4           599.406092  \n"
     ]
    }
   ],
   "source": [
    "import pandas as pd\n",
    "import numpy as np\n",
    "import normalization_file\n",
    "\n",
    "\n",
    "data = pd.read_csv(\"Ecommerce Customers.csv\")\n",
    "print(data.head(5))\n",
    "\n",
    "data_num = data[[\"Avg. Session Length\",\"Time on App\",\"Time on Website\",\"Length of Membership\",\"Yearly Amount Spent\"]]\n",
    "data_cat = data[[\"Email\",\"Address\",\"Avatar\"]]\n",
    "\n",
    "email_tail_list = []"
   ]
  },
  {
   "source": [
    "Data cleaning"
   ],
   "cell_type": "markdown",
   "metadata": {}
  },
  {
   "source": [
    "Missing or wrong data"
   ],
   "cell_type": "markdown",
   "metadata": {}
  },
  {
   "cell_type": "code",
   "execution_count": null,
   "metadata": {},
   "outputs": [],
   "source": [
    "avatar = data_cat[\"Avatar\"]\n",
    "print(avatar[:15])\n",
    "\n",
    "spent = data_num[\"Yearly Amount Spent\"]\n",
    "print(spent[:15])\n",
    "\n"
   ]
  },
  {
   "source": [
    "Numerical variable analysis"
   ],
   "cell_type": "markdown",
   "metadata": {}
  },
  {
   "cell_type": "code",
   "execution_count": null,
   "metadata": {},
   "outputs": [],
   "source": [
    "data_num.info()"
   ]
  },
  {
   "cell_type": "code",
   "execution_count": null,
   "metadata": {},
   "outputs": [],
   "source": [
    "data_num.describe()"
   ]
  },
  {
   "cell_type": "code",
   "execution_count": null,
   "metadata": {},
   "outputs": [],
   "source": [
    "data_num.corr(method = \"pearson\")"
   ]
  },
  {
   "source": [
    "Email Analysis"
   ],
   "cell_type": "markdown",
   "metadata": {}
  },
  {
   "cell_type": "code",
   "execution_count": null,
   "metadata": {},
   "outputs": [],
   "source": [
    "email_series = data[\"Email\"]"
   ]
  },
  {
   "cell_type": "code",
   "execution_count": 56,
   "metadata": {},
   "outputs": [
    {
     "output_type": "execute_result",
     "data": {
      "text/plain": [
       "0          fernandez.com\n",
       "1            hotmail.com\n",
       "2              yahoo.com\n",
       "3              gmail.com\n",
       "4    davidson-herman.com\n",
       "dtype: object"
      ]
     },
     "metadata": {},
     "execution_count": 56
    }
   ],
   "source": [
    "for i in email_series:\n",
    "    head, sep, tail = i.partition(\"@\")\n",
    "    email_tail_list.append(tail)\n",
    "\n",
    "email_tail_series = pd.Series(email_tail_list)\n",
    "email_tail_series.head(5)"
   ]
  },
  {
   "cell_type": "code",
   "execution_count": 57,
   "metadata": {},
   "outputs": [
    {
     "output_type": "execute_result",
     "data": {
      "text/plain": [
       "count             500\n",
       "unique            244\n",
       "top       hotmail.com\n",
       "freq               87\n",
       "dtype: object"
      ]
     },
     "metadata": {},
     "execution_count": 57
    }
   ],
   "source": [
    "email_tail_series.describe()"
   ]
  },
  {
   "cell_type": "code",
   "execution_count": null,
   "metadata": {},
   "outputs": [],
   "source": []
  }
 ]
}