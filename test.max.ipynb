{
 "metadata": {
  "language_info": {
   "codemirror_mode": {
    "name": "ipython",
    "version": 3
   },
   "file_extension": ".py",
   "mimetype": "text/x-python",
   "name": "python",
   "nbconvert_exporter": "python",
   "pygments_lexer": "ipython3",
   "version": "3.8.3-final"
  },
  "orig_nbformat": 2,
  "kernelspec": {
   "name": "python3",
   "display_name": "Python 3"
  }
 },
 "nbformat": 4,
 "nbformat_minor": 2,
 "cells": [
  {
   "cell_type": "code",
   "execution_count": 3,
   "metadata": {},
   "outputs": [],
   "source": [
    "#1do the neccesary imports\n",
    "import pandas as pd \n",
    "import numpy as np\n",
    "import matplotlib.pyplot as plt\n",
    "import seaborn as sns \n",
    "from sklearn.datasets import make_blobs\n",
    "import scipy.cluster.hierarchy as sch\n",
    "from sklearn.cluster import AgglomerativeClustering\n",
    "\n"
   ]
  },
  {
   "cell_type": "code",
   "execution_count": 4,
   "metadata": {},
   "outputs": [],
   "source": [
    "#2import dataset and specification\n",
    "\n",
    "\n",
    "data = pd.read_csv(\"Ecommerce Customers.csv\") \n",
    "#print(data.head(5))\n",
    "\n",
    "data_num = data[[\"Avg. Session Length\",\"Time on App\",\"Time on Website\",\"Length of Membership\",\"Yearly Amount Spent\"]]\n",
    "data_cat = data[[\"Email\",\"Address\"]]\n",
    "\n",
    "x= data.iloc[:,[3,6]].values\n",
    "\n",
    "counter=['single', 'complete', 'average'] #list for distance methods\n"
   ]
  },
  {
   "cell_type": "code",
   "execution_count": null,
   "metadata": {},
   "outputs": [],
   "source": [
    "#3using the denrogram to find optimal number of clusters \n",
    "\n",
    "\n",
    "for i in counter: #order: single, complete, average \n",
    "    dendrogram = sch.dendrogram(sch.linkage(x, method=i))\n",
    "    plt.title(i)\n",
    "    plt.show()\n",
    "\n"
   ]
  },
  {
   "cell_type": "code",
   "execution_count": null,
   "metadata": {},
   "outputs": [],
   "source": [
    "#4fitting hierarchical clustering to the dataset \n",
    "hc = AgglomerativeClustering(n_clusters=6, affinity='euclidean',linkage='ward')\n",
    "y_hc= hc.fit_predict(data_num)"
   ]
  },
  {
   "cell_type": "code",
   "execution_count": null,
   "metadata": {},
   "outputs": [],
   "source": [
    " \n",
    "#5visualize clusters \n",
    "\n",
    "plt.scatter(x[y_hc == 0, 0], x[y_hc == 0, 1], s = 50, c = 'pink')\n",
    "plt.scatter(x[y_hc == 1, 0], x[y_hc == 1, 1], s = 50, c = \"yellow\")\n",
    "plt.scatter(x[y_hc == 2, 0], x[y_hc == 2, 1], s = 50, c = 'cyan')\n",
    "plt.scatter(x[y_hc == 3, 0], x[y_hc == 3, 1], s = 50, c = 'magenta')\n",
    "plt.scatter(x[y_hc == 4, 0], x[y_hc == 4, 1], s = 50, c = 'orange')\n",
    "plt.scatter(x[y_hc == 5, 0], x[y_hc == 5, 1], s = 50, c = 'blue')\n"
   ]
  },
  {
   "cell_type": "code",
   "execution_count": null,
   "metadata": {},
   "outputs": [],
   "source": []
  }
 ]
}