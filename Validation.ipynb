{
 "metadata": {
  "language_info": {
   "codemirror_mode": {
    "name": "ipython",
    "version": 3
   },
   "file_extension": ".py",
   "mimetype": "text/x-python",
   "name": "python",
   "nbconvert_exporter": "python",
   "pygments_lexer": "ipython3",
   "version": "3.8.3-final"
  },
  "orig_nbformat": 2,
  "kernelspec": {
   "name": "python3",
   "display_name": "Python 3",
   "language": "python"
  }
 },
 "nbformat": 4,
 "nbformat_minor": 2,
 "cells": [
  {
   "cell_type": "code",
   "execution_count": 115,
   "metadata": {},
   "outputs": [],
   "source": [
    "import numpy as pd \n",
    "import pandas as pd \n",
    "import matplotlib.pyplot as plt\n",
    "from sklearn.cluster import KMeans\n",
    "import normalization_file\n",
    "from sklearn.metrics import pairwise_distances #needed for several index  e.g adjusted Rand index \n",
    "from sklearn import datasets\n",
    "from sklearn.cluster import KMeans\n",
    "from sklearn.metrics import davies_bouldin_score\n",
    "\n",
    "\n",
    "\n"
   ]
  },
  {
   "cell_type": "code",
   "execution_count": 116,
   "metadata": {},
   "outputs": [
    {
     "output_type": "execute_result",
     "data": {
      "text/plain": [
       "0.5528190123564091"
      ]
     },
     "metadata": {},
     "execution_count": 116
    }
   ],
   "source": [
    "#example data used \n",
    "labels_true = [0, 0, 0, 0, 1, 1]\n",
    "labels_pred = [0, 0, 0, 2, 2, 2]\n",
    "\n",
    "#Rand Index - attention with permutations \n",
    "metrics.adjusted_rand_score(labels_true, labels_pred) #1.0 if there is maximum similarity \n",
    "\n",
    "#Silhouette Coefficient - if the ground truth labels are unknown \n",
    "X, y = datasets.load_iris(return_X_y=True) \n",
    "\n",
    "metrics.silhouette_score(X, labels, metric='euclidean')\n",
    "\n",
    "\n"
   ]
  },
  {
   "cell_type": "code",
   "execution_count": 118,
   "metadata": {},
   "outputs": [
    {
     "output_type": "stream",
     "name": "stdout",
     "text": [
      "   Avg. Session Length  Time on App  Time on Website  Length of Membership  \\\n0             0.751425     0.626620         0.929816              0.573101   \n1             0.362306     0.393016         0.550801              0.359869   \n2             0.524953     0.426378         0.524803              0.576396   \n3             0.722409     0.787050         0.460890              0.428434   \n4             0.574861     0.647702         0.594748              0.627768   \n\n   Yearly Amount Spent  cluster  \n0             0.651040        3  \n1             0.266355        2  \n2             0.453725        0  \n3             0.639055        3  \n4             0.673552        1  \n"
     ]
    }
   ],
   "source": [
    "#Internal evaluation on e-commerce dataset (not yet based on data_real)\n",
    "data_num_norm = normalization_file.data_num_norm_normfile\n",
    "print(data_num_norm.head(5))\n",
    "\n",
    "x = data_num_norm.iloc[:,[0,4]].values\n"
   ]
  },
  {
   "cell_type": "code",
   "execution_count": 137,
   "metadata": {},
   "outputs": [
    {
     "output_type": "execute_result",
     "data": {
      "text/plain": [
       "   Avg. Session Length  Time on App  Time on Website  Length of Membership  \\\n",
       "0             0.751425     0.626620         0.929816              0.573101   \n",
       "1             0.362306     0.393016         0.550801              0.359869   \n",
       "2             0.524953     0.426378         0.524803              0.576396   \n",
       "3             0.722409     0.787050         0.460890              0.428434   \n",
       "4             0.574861     0.647702         0.594748              0.627768   \n",
       "\n",
       "   Yearly Amount Spent  cluster  \n",
       "0             0.651040        3  \n",
       "1             0.266355        2  \n",
       "2             0.453725        0  \n",
       "3             0.639055        3  \n",
       "4             0.673552        1  "
      ],
      "text/html": "<div>\n<style scoped>\n    .dataframe tbody tr th:only-of-type {\n        vertical-align: middle;\n    }\n\n    .dataframe tbody tr th {\n        vertical-align: top;\n    }\n\n    .dataframe thead th {\n        text-align: right;\n    }\n</style>\n<table border=\"1\" class=\"dataframe\">\n  <thead>\n    <tr style=\"text-align: right;\">\n      <th></th>\n      <th>Avg. Session Length</th>\n      <th>Time on App</th>\n      <th>Time on Website</th>\n      <th>Length of Membership</th>\n      <th>Yearly Amount Spent</th>\n      <th>cluster</th>\n    </tr>\n  </thead>\n  <tbody>\n    <tr>\n      <th>0</th>\n      <td>0.751425</td>\n      <td>0.626620</td>\n      <td>0.929816</td>\n      <td>0.573101</td>\n      <td>0.651040</td>\n      <td>3</td>\n    </tr>\n    <tr>\n      <th>1</th>\n      <td>0.362306</td>\n      <td>0.393016</td>\n      <td>0.550801</td>\n      <td>0.359869</td>\n      <td>0.266355</td>\n      <td>2</td>\n    </tr>\n    <tr>\n      <th>2</th>\n      <td>0.524953</td>\n      <td>0.426378</td>\n      <td>0.524803</td>\n      <td>0.576396</td>\n      <td>0.453725</td>\n      <td>0</td>\n    </tr>\n    <tr>\n      <th>3</th>\n      <td>0.722409</td>\n      <td>0.787050</td>\n      <td>0.460890</td>\n      <td>0.428434</td>\n      <td>0.639055</td>\n      <td>3</td>\n    </tr>\n    <tr>\n      <th>4</th>\n      <td>0.574861</td>\n      <td>0.647702</td>\n      <td>0.594748</td>\n      <td>0.627768</td>\n      <td>0.673552</td>\n      <td>1</td>\n    </tr>\n  </tbody>\n</table>\n</div>"
     },
     "metadata": {},
     "execution_count": 137
    }
   ],
   "source": [
    "#kmeans\n",
    "\n",
    "km = KMeans(n_clusters=6, init=\"k-means++\", max_iter=300, n_init=10, random_state=0)\n",
    "y_means = km.fit_predict(x)\n",
    "\n",
    "data_num_norm['cluster']= y_means\n",
    "data_num_norm.head(5) \n",
    "\n",
    "\n",
    "\n",
    "\n",
    "\n"
   ]
  },
  {
   "cell_type": "code",
   "execution_count": 124,
   "metadata": {},
   "outputs": [
    {
     "output_type": "execute_result",
     "data": {
      "text/plain": [
       "0.32441053821659277"
      ]
     },
     "metadata": {},
     "execution_count": 124
    }
   ],
   "source": [
    "#silhouette coefficient on k means results \n",
    "#-1 = bad clustering, 0=overlapping clusters, 1=ideal homogenius clustering) \n",
    "metrics.silhouette_score(x, y_means, metric='euclidean')\n"
   ]
  },
  {
   "cell_type": "code",
   "execution_count": 129,
   "metadata": {},
   "outputs": [
    {
     "output_type": "execute_result",
     "data": {
      "text/plain": [
       "320.1209593153657"
      ]
     },
     "metadata": {},
     "execution_count": 129
    }
   ],
   "source": [
    "#Calinski-Harabasz Index (variance ratio criterion)\n",
    "#the higher the score the better the clusters are seperated from each other \n",
    "#probably only meaningful in direct relation to another algorithim \n",
    "\n",
    "metrics.calinski_harabasz_score(x,y_means)"
   ]
  },
  {
   "cell_type": "code",
   "execution_count": 131,
   "metadata": {},
   "outputs": [
    {
     "output_type": "execute_result",
     "data": {
      "text/plain": [
       "0.9083323080519617"
      ]
     },
     "metadata": {},
     "execution_count": 131
    }
   ],
   "source": [
    "#Davies-Bouldin Index\n",
    "#0=lowest score by having best possible seperation \n",
    "davies_bouldin_score(x, y_means) "
   ]
  },
  {
   "cell_type": "code",
   "execution_count": null,
   "metadata": {},
   "outputs": [],
   "source": [
    "#Kontigenzmatrix "
   ]
  },
  {
   "cell_type": "code",
   "execution_count": null,
   "metadata": {},
   "outputs": [],
   "source": [
    "#silhouette coefficient on DBSCAN results "
   ]
  },
  {
   "cell_type": "code",
   "execution_count": 140,
   "metadata": {},
   "outputs": [
    {
     "output_type": "execute_result",
     "data": {
      "text/plain": [
       "0"
      ]
     },
     "metadata": {},
     "execution_count": 140
    }
   ],
   "source": []
  },
  {
   "cell_type": "code",
   "execution_count": null,
   "metadata": {},
   "outputs": [],
   "source": []
  }
 ]
}