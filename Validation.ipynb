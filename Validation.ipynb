{
 "metadata": {
  "language_info": {
   "codemirror_mode": {
    "name": "ipython",
    "version": 3
   },
   "file_extension": ".py",
   "mimetype": "text/x-python",
   "name": "python",
   "nbconvert_exporter": "python",
   "pygments_lexer": "ipython3",
   "version": "3.8.3-final"
  },
  "orig_nbformat": 2,
  "kernelspec": {
   "name": "python3",
   "display_name": "Python 3",
   "language": "python"
  }
 },
 "nbformat": 4,
 "nbformat_minor": 2,
 "cells": [
  {
   "cell_type": "code",
   "execution_count": 98,
   "metadata": {},
   "outputs": [],
   "source": [
    "import numpy as pd \n",
    "import pandas as pd \n",
    "import matplotlib.pyplot as plt\n",
    "from sklearn.cluster import KMeans\n",
    "import normalization_file\n",
    "from sklearn.metrics import pairwise_distances #needed for several index  e.g adjusted Rand index \n",
    "from sklearn import datasets\n",
    "from sklearn.cluster import KMeans\n",
    "from sklearn.metrics import davies_bouldin_score\n",
    "\n",
    "\n",
    "\n"
   ]
  },
  {
   "cell_type": "code",
   "execution_count": 66,
   "metadata": {},
   "outputs": [
    {
     "output_type": "execute_result",
     "data": {
      "text/plain": [
       "0.5528190123564091"
      ]
     },
     "metadata": {},
     "execution_count": 66
    }
   ],
   "source": [
    "#example data used \n",
    "labels_true = [0, 0, 0, 0, 1, 1]\n",
    "labels_pred = [0, 0, 0, 2, 2, 2]\n",
    "\n",
    "#Rand Index - attention with permutations \n",
    "metrics.adjusted_rand_score(labels_true, labels_pred) #1.0 if there is maximum similarity \n",
    "\n",
    "#Silhouette Coefficient - if the ground truth labels are unknown \n",
    "X, y = datasets.load_iris(return_X_y=True) \n",
    "\n",
    "metrics.silhouette_score(X, labels, metric='euclidean')\n",
    "\n",
    "\n"
   ]
  },
  {
   "cell_type": "code",
   "execution_count": 95,
   "metadata": {},
   "outputs": [
    {
     "output_type": "stream",
     "name": "stdout",
     "text": [
      "   Avg. Session Length  Time on App  Time on Website  Length of Membership  \\\n0             0.751425     0.626620         0.929816              0.573101   \n1             0.362306     0.393016         0.550801              0.359869   \n2             0.524953     0.426378         0.524803              0.576396   \n3             0.722409     0.787050         0.460890              0.428434   \n4             0.574861     0.647702         0.594748              0.627768   \n\n   Yearly Amount Spent  \n0             0.651040  \n1             0.266355  \n2             0.453725  \n3             0.639055  \n4             0.673552  \n"
     ]
    },
    {
     "output_type": "execute_result",
     "data": {
      "text/plain": [
       "0.32441053821659277"
      ]
     },
     "metadata": {},
     "execution_count": 95
    }
   ],
   "source": [
    "#Internal evaluation on e-commerce dataset \n",
    "#silhouette coefficient on our k means results \n",
    "\n",
    "data_num_norm = normalization_file.data_num_norm_normfile\n",
    "print(data_num_norm.head(5))\n",
    "\n",
    "x = data_num_norm.iloc[:,[0,4]].values\n",
    "\n",
    "\n",
    "km = KMeans(n_clusters=6, init=\"k-means++\", max_iter=300, n_init=10, random_state=0)\n",
    "y_means = km.fit_predict(x)\n",
    "\n",
    "\n",
    "metrics.silhouette_score(x, y_means, metric='euclidean')\n"
   ]
  },
  {
   "cell_type": "code",
   "execution_count": 97,
   "metadata": {},
   "outputs": [
    {
     "output_type": "execute_result",
     "data": {
      "text/plain": [
       "320.1209593153657"
      ]
     },
     "metadata": {},
     "execution_count": 97
    }
   ],
   "source": [
    "#Calinski-Harabasz Index (variance ratio criterion)\n",
    "#the higher the score the better the clsuters are seperated from each other \n",
    "#probably only meaningful in direct relation to another algorithim \n",
    "metrics.calinski_harabasz_score(x,y_means)"
   ]
  },
  {
   "cell_type": "code",
   "execution_count": 99,
   "metadata": {},
   "outputs": [
    {
     "output_type": "execute_result",
     "data": {
      "text/plain": [
       "0.9083323080519617"
      ]
     },
     "metadata": {},
     "execution_count": 99
    }
   ],
   "source": [
    "#davies-bouldin Index\n",
    "davies_bouldin_score(x, y_means)"
   ]
  },
  {
   "cell_type": "code",
   "execution_count": null,
   "metadata": {},
   "outputs": [],
   "source": [
    "#Kontigenzmatrix "
   ]
  },
  {
   "cell_type": "code",
   "execution_count": null,
   "metadata": {},
   "outputs": [],
   "source": [
    "#silhouette coefficient on our DBSCAN results "
   ]
  }
 ]
}